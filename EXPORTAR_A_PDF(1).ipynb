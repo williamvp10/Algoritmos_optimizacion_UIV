{
  "cells": [
    {
      "cell_type": "markdown",
      "metadata": {
        "id": "shbBcLK1shZx"
      },
      "source": [
        "## PASOS PARA EXPORTAR A PDF Y HTML EN GOOGLE COLAB\n",
        "\n",
        "### SUBIR EL NOTEBOOK AL ENTORNO LOCAL DE COLAB\n",
        "* El primer paso es subir el fichero notebook '.ipynb' que quires imprimir a COLAB.\n",
        "* Si ya lo tienes abierto en COLAB o guardado en GOOGLE DRIVE tendrás que descargarlo en local primero y subirlo desde ahí al entorno de esta sesión.\n"
      ]
    },
    {
      "cell_type": "markdown",
      "metadata": {
        "id": "RzRjjiFBvcxp"
      },
      "source": [
        "1.   Inicializa el entorno (Pulsa 'Conectar' arriba a la derecha).\n",
        "2.   Pincha sobre el icono con forma de *carpeta* **Archivos** de la izquierda.\n",
        "3.   En el panel desplegado, pincha en el icono  **Subir al almacenamiento de sesión** con forma de *documento con una flecha hacia arriba*.\n",
        "4.   Busca entre tus archivos locales el notebook a imprimir y pincha **subir**.\n",
        "5.   Comprueba que el fichero *.ipynb* subido aparece debajo de la carpeta *sample_data*. Puede que tengas que *refrescar* el panel.\n",
        "\n",
        "\n"
      ]
    },
    {
      "cell_type": "markdown",
      "metadata": {
        "id": "1pSn-4S5vGqq"
      },
      "source": [
        "### OPCIONES DE CONVERSION - HTML y a PDF (**RECOMENDADA**)\n",
        "* La más cómoda es a HTML. No require ningún paso inicial una vez el dichero notebook aparezca en 'Archivos' en la barra de la izquierda.\n",
        "* Una vez ejecutes la siguiente celda, podras ver el fichero *.html* en el panel 'Archivos'."
      ]
    },
    {
      "cell_type": "code",
      "execution_count": null,
      "metadata": {
        "id": "zFyufxzZsQH8"
      },
      "outputs": [],
      "source": [
        "!jupyter nbconvert Algoritmos_AG1.ipynb --to html"
      ]
    },
    {
      "cell_type": "markdown",
      "metadata": {
        "id": "mPIAOXwvvHz4"
      },
      "source": [
        "* Si se descarga el fichero HTML resultante y se abre (también si se guarda en GOOGLE DRIVE y se abre desde allí), desde el menú 'Archivo'/'File' del navegador se puede imprimir PDF."
      ]
    },
    {
      "cell_type": "markdown",
      "metadata": {
        "id": "rvx13PlpvIee"
      },
      "source": [
        "### OPCIONES DE CONVERSION - PDF via TEX\n",
        "* Requiere de unos minutos de instalación.\n",
        "* Aunque en principio no debería haber problema, el PDF resultante está formateado como un documento (no es la imagen directa de lo que se visualiza en la web). **REVISAR QUE EL NUEVO FORMATO NO MODIFICA EL CONTENIDO ANTES DE ENTREGAR**"
      ]
    },
    {
      "cell_type": "code",
      "execution_count": null,
      "metadata": {
        "id": "btwHdQxDvXW4"
      },
      "outputs": [],
      "source": [
        "!sudo apt-get install texlive-xetex texlive-fonts-recommended texlive-plain-generic"
      ]
    },
    {
      "cell_type": "code",
      "execution_count": null,
      "metadata": {
        "id": "MWb2RGbYxkG0"
      },
      "outputs": [],
      "source": [
        "!jupyter nbconvert Algoritmos_AG1.ipynb --to pdf"
      ]
    },
    {
      "cell_type": "markdown",
      "metadata": {
        "id": "cxTil4Y1yHLw"
      },
      "source": [
        "* Verás el fichero PDF resultante en el panel 'Archivos' de la izquierda."
      ]
    },
    {
      "cell_type": "code",
      "execution_count": null,
      "metadata": {
        "id": "9G-XDuUOyQnm"
      },
      "outputs": [],
      "source": []
    }
  ],
  "metadata": {
    "colab": {
      "provenance": []
    },
    "kernelspec": {
      "display_name": "masterai",
      "language": "python",
      "name": "python3"
    },
    "language_info": {
      "name": "python",
      "version": "3.12.11"
    }
  },
  "nbformat": 4,
  "nbformat_minor": 0
}
